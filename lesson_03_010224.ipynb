{
 "cells": [
  {
   "cell_type": "markdown",
   "id": "5b399974",
   "metadata": {},
   "source": [
    "Задача поиск похожих по эмбеддингам Скачиваем датасет\n",
    "\n",
    "!wget https://github.com/ods-ai-ml4sg/proj_news_viz/releases/download/data/gazeta.csv.gz Или данные можно скачать тут https://github.com/IlyaGusev/gazeta\n",
    "\n",
    "from corus import load_ods_gazeta path = 'gazeta.csv.gz' records = load_ods_gazeta(path) next(records) что надо сделать\n",
    "\n",
    "на основе word2vec/fasttext реализовать метод поиска ближайших статей (на вход метода должен приходить запрос (какой-то вопрос) и количество вариантов вывода к примеру 5-ть, ваш метод должен возвращать 5-ть ближайших статей к этому запросу) Проверить насколько хорошо работают подходы"
   ]
  },
  {
   "cell_type": "code",
   "execution_count": null,
   "id": "198da62b",
   "metadata": {},
   "outputs": [],
   "source": [
    "!pip install transforms"
   ]
  },
  {
   "cell_type": "code",
   "execution_count": null,
   "id": "3869d621",
   "metadata": {},
   "outputs": [],
   "source": [
    "!pip install corus"
   ]
  },
  {
   "cell_type": "code",
   "execution_count": null,
   "id": "bbc4acd6",
   "metadata": {},
   "outputs": [],
   "source": [
    "!pip install tensorflow"
   ]
  },
  {
   "cell_type": "code",
   "execution_count": null,
   "id": "2721ffc0",
   "metadata": {},
   "outputs": [],
   "source": [
    "!pip install transformers"
   ]
  },
  {
   "cell_type": "code",
   "execution_count": null,
   "id": "69fcf253",
   "metadata": {},
   "outputs": [],
   "source": [
    "!pip install annoy"
   ]
  },
  {
   "cell_type": "code",
   "execution_count": null,
   "id": "5d1cba16",
   "metadata": {},
   "outputs": [],
   "source": [
    "import numpy as np \n",
    "import pandas as pd \n",
    "\n",
    "\n",
    "import os\n",
    "for dirname, _, filenames in os.walk('/kaggle/input'):\n",
    "    for filename in filenames:\n",
    "        print(os.path.join(dirname, filename))\n",
    "\n",
    "\n",
    "\n",
    "from corus import load_ods_gazeta\n",
    "\n",
    "import tensorflow as tf\n",
    "from transformers import TFAutoModel, AutoTokenizer,  TFBertModel\n",
    "from transformers import MBartTokenizer, MBartForConditionalGeneration\n",
    "\n",
    "import annoy\n",
    "import time"
   ]
  },
  {
   "cell_type": "code",
   "execution_count": null,
   "id": "d78070e0",
   "metadata": {},
   "outputs": [],
   "source": [
    "tokenizer = AutoTokenizer.from_pretrained(\"sberbank-ai/sbert_large_mt_nlu_ru\",)\n",
    "model = TFBertModel.from_pretrained(\"sberbank-ai/sbert_large_mt_nlu_ru\")\n",
    "vector_size = 1024"
   ]
  },
  {
   "cell_type": "code",
   "execution_count": null,
   "id": "5587847e",
   "metadata": {},
   "outputs": [],
   "source": [
    "!wget https://github.com/ods-ai-ml4sg/proj_news_viz/releases/download/data/gazeta.csv.gz"
   ]
  },
  {
   "cell_type": "code",
   "execution_count": null,
   "id": "ec3f5ad3",
   "metadata": {},
   "outputs": [],
   "source": [
    "path = 'gazeta.csv.gz'\n",
    "records = load_ods_gazeta(path)\n",
    "next(records)"
   ]
  },
  {
   "cell_type": "code",
   "execution_count": null,
   "id": "dd48d975",
   "metadata": {},
   "outputs": [],
   "source": [
    "article_lenght = 128\n",
    "article_index = annoy.AnnoyIndex(vector_size,'angular')\n",
    "index_map = {}\n",
    "counter = 0\n",
    "\n",
    "nw = time.time()\n",
    "for record in load_ods_gazeta(path):\n",
    "    \n",
    "    index_map[counter] = record.text\n",
    "    \n",
    "    tokens = tokenizer([index_map[counter]], max_length=article_lenght, truncation=True, padding='max_length', return_token_type_ids=False, return_tensors='tf')\n",
    "    vector = model(**tokens)\n",
    "    \n",
    "\n",
    "    \n",
    "    token_embeddings = vector[0][0]\n",
    "    input_mask = tokens['attention_mask'][0]\n",
    "    sum_embeddings = token_embeddings[input_mask == 1]\n",
    "    embed = tf.reduce_sum(sum_embeddings, 0)/tf.reduce_sum(tf.cast(input_mask, dtype=tf.float32))\n",
    "\n",
    "    \n",
    "    article_index.add_item(counter, embed)\n",
    "          \n",
    "    counter += 1\n",
    "        \n",
    "    if (time.time() - nw) // 60 > 30:\n",
    "        break\n",
    "\n",
    "article_index.build(10)"
   ]
  },
  {
   "cell_type": "code",
   "execution_count": null,
   "id": "9f00cc41",
   "metadata": {},
   "outputs": [],
   "source": [
    "def get_response(model, tokenizer, question, article_index,  answers_nmb=3):\n",
    "    \n",
    "    tokens = tokenizer([question], max_length=article_lenght, truncation=True, padding='max_length', return_token_type_ids=False, return_tensors='tf')\n",
    "    vector = model(**tokens)\n",
    "    \n",
    "    token_embeddings = vector[0][0]\n",
    "    input_mask = tokens['attention_mask'][0]\n",
    "    sum_embeddings = token_embeddings[input_mask == 1]\n",
    "    embed = tf.reduce_sum(sum_embeddings, 0)/tf.reduce_sum(tf.cast(input_mask, dtype=tf.float32))\n",
    "\n",
    "    answers = article_index.get_nns_by_vector(embed, answers_nmb)\n",
    "    return [index_map[i] for i in answers]"
   ]
  },
  {
   "cell_type": "code",
   "execution_count": null,
   "id": "b6293220",
   "metadata": {},
   "outputs": [],
   "source": [
    "question = \"собака друг человека\"\n",
    "get_response(model, tokenizer, question, article_index,  answers_nmb=5)"
   ]
  },
  {
   "cell_type": "code",
   "execution_count": null,
   "id": "3b2bd5ca",
   "metadata": {},
   "outputs": [],
   "source": [
    "question = \"Тише едешь дальше будешь\"\n",
    "get_response(model, tokenizer, question, article_index,  answers_nmb=5)"
   ]
  },
  {
   "cell_type": "code",
   "execution_count": null,
   "id": "95afd632",
   "metadata": {},
   "outputs": [],
   "source": [
    "question = \"Спартак чемпион\"\n",
    "get_response(model, tokenizer, question, article_index,  answers_nmb=5)"
   ]
  }
 ],
 "metadata": {
  "kernelspec": {
   "display_name": "Python 3 (ipykernel)",
   "language": "python",
   "name": "python3"
  },
  "language_info": {
   "codemirror_mode": {
    "name": "ipython",
    "version": 3
   },
   "file_extension": ".py",
   "mimetype": "text/x-python",
   "name": "python",
   "nbconvert_exporter": "python",
   "pygments_lexer": "ipython3",
   "version": "3.8.10"
  }
 },
 "nbformat": 4,
 "nbformat_minor": 5
}
